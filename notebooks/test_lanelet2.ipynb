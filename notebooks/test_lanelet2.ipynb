{
 "cells": [
  {
   "cell_type": "code",
   "execution_count": 1,
   "metadata": {},
   "outputs": [],
   "source": [
    "### Lanelet 2"
   ]
  },
  {
   "cell_type": "code",
   "execution_count": 2,
   "metadata": {},
   "outputs": [],
   "source": [
    "import lanelet2\n",
    "import lanelet2.core as lncore\n",
    "import os"
   ]
  },
  {
   "cell_type": "code",
   "execution_count": null,
   "metadata": {},
   "outputs": [],
   "source": []
  },
  {
   "cell_type": "code",
   "execution_count": 3,
   "metadata": {},
   "outputs": [],
   "source": [
    "# 1. creating (programmatically) and saving a simple lane"
   ]
  },
  {
   "cell_type": "code",
   "execution_count": 4,
   "metadata": {},
   "outputs": [],
   "source": [
    "# simple init an empty map\n",
    "lmap = lncore.LaneletMap()\n",
    "\n",
    "# define a lane with a given left bound and right bound (and attribs)\n",
    "am = lncore.AttributeMap({\"type\": \"lanelet\"})\n",
    "lb = lncore.LineString3d(lncore.getId(),\n",
    "                [lncore.Point3d(lncore.getId(), 4, 0, 0), lncore.Point3d(lncore.getId(), 4, 2, 0),\n",
    "                 lncore.Point3d(lncore.getId(), 3, 3, 1), lncore.Point3d(lncore.getId(), 3, 4, 1)])\n",
    "rb = lncore.LineString3d(lncore.getId(),\n",
    "                [lncore.Point3d(lncore.getId(), 6, 0, 0), lncore.Point3d(lncore.getId(), 6, 2, 0),\n",
    "                 lncore.Point3d(lncore.getId(), 5, 3, 1), lncore.Point3d(lncore.getId(), 5, 4, 1)])\n",
    "llet1 = lncore.Lanelet(lncore.getId(), lb, rb, am)\n",
    "\n",
    "lmap.add(llet1)\n",
    "\n",
    "# create a projector in London\n",
    "projector = lanelet2.projection.UtmProjector(lanelet2.io.Origin(51.40, -0.04, 0.0))\n",
    "ll_path = os.path.join(os.path.dirname(os.path.abspath('')), \"data/llet_generated_map.osm\")\n",
    "lanelet2.io.write(ll_path, lmap, projector)"
   ]
  },
  {
   "cell_type": "code",
   "execution_count": null,
   "metadata": {},
   "outputs": [],
   "source": []
  },
  {
   "cell_type": "code",
   "execution_count": 5,
   "metadata": {},
   "outputs": [],
   "source": [
    "# 2. examing the result"
   ]
  },
  {
   "cell_type": "code",
   "execution_count": 6,
   "metadata": {},
   "outputs": [
    {
     "name": "stdout",
     "output_type": "stream",
     "text": [
      "* lanelet left bound\n",
      "    [id: 1001 x: 4 y: 0 z: 0] \n",
      "    [id: 1002 x: 4 y: 2 z: 0] \n",
      "    [id: 1003 x: 3 y: 3 z: 1] \n",
      "    [id: 1004 x: 3 y: 4 z: 1] \n",
      "* lanelet left bound\n",
      "    [id: 1006 x: 6 y: 0 z: 0] \n",
      "    [id: 1007 x: 6 y: 2 z: 0] \n",
      "    [id: 1008 x: 5 y: 3 z: 1] \n",
      "    [id: 1009 x: 5 y: 4 z: 1] \n"
     ]
    }
   ],
   "source": [
    "print(\"* lanelet left bound\")\n",
    "for p in llet1.leftBound:\n",
    "    print(\"    %s \" % p)\n",
    "print(\"* lanelet left bound\")\n",
    "for p in llet1.rightBound:\n",
    "    print(\"    %s \" % p)"
   ]
  },
  {
   "cell_type": "code",
   "execution_count": 7,
   "metadata": {},
   "outputs": [],
   "source": [
    "# 3. reading an existing OSM map"
   ]
  },
  {
   "cell_type": "code",
   "execution_count": 8,
   "metadata": {},
   "outputs": [
    {
     "name": "stdout",
     "output_type": "stream",
     "text": [
      "---- opening files ----\n",
      "using OSM: /home/developer/workspace/data/mapping_example.osm (exists? True)\n",
      "0 errors, 371 lanes detected\n"
     ]
    }
   ],
   "source": [
    "print(\"---- opening files ----\")\n",
    "osm_path = os.path.join(os.path.dirname(os.path.abspath('')), \"data/mapping_example.osm\")\n",
    "print(\"using OSM: %s (exists? %s)\" % (osm_path, os.path.exists(osm_path)))\n",
    "projector = lanelet2.projection.UtmProjector(lanelet2.io.Origin(49.00,8.42))\n",
    "lmap, err_list = lanelet2.io.loadRobust(osm_path, projector) \n",
    "print(\"%d errors, %d lanes detected\" % (len(err_list), len([l for l in lmap.laneletLayer])))"
   ]
  },
  {
   "cell_type": "code",
   "execution_count": 9,
   "metadata": {},
   "outputs": [
    {
     "name": "stdout",
     "output_type": "stream",
     "text": [
      "---- what's in a lanelet map? ----\n",
      "add\n",
      "areaLayer\n",
      "laneletLayer\n",
      "lineStringLayer\n",
      "pointLayer\n",
      "polygonLayer\n",
      "regulatoryElementLayer\n"
     ]
    }
   ],
   "source": [
    "# what's in a lanelet map?\n",
    "print(\"---- what's in a lanelet map? ----\")\n",
    "for s in dir(lmap):\n",
    "    if \"__\" not in s:\n",
    "        print s"
   ]
  },
  {
   "cell_type": "code",
   "execution_count": 10,
   "metadata": {},
   "outputs": [
    {
     "name": "stdout",
     "output_type": "stream",
     "text": [
      "--- example of a lanelet ---\n",
      "\n",
      "[id: 9178926741377113721, left id: 997750960516616982, right id: 2216115017118688772]\n",
      "    * addRegulatoryElement\n",
      "    * attributes\n",
      "    * centerline\n",
      "    * id\n",
      "    * invert\n",
      "    * inverted\n",
      "    * leftBound\n",
      "    * polygon2d\n",
      "    * polygon3d\n",
      "    * regulatoryElements\n",
      "    * removeRegulatoryElement\n",
      "    * rightBound\n",
      "    * rightOfWay\n",
      "    * speedLimits\n",
      "    * trafficLights\n",
      "    * trafficSigns\n"
     ]
    }
   ],
   "source": [
    "# let's look at the the lanelet layer \n",
    "lanes = [lane for lane in lmap.laneletLayer]\n",
    "print(\"--- example of a lanelet ---\\n\\n%s\" % lanes[0])\n",
    "lane0 = lanes[0]\n",
    "for s in dir(lane0):\n",
    "    if \"__\" not in s:\n",
    "        print \"    * %s\" % s"
   ]
  },
  {
   "cell_type": "code",
   "execution_count": null,
   "metadata": {},
   "outputs": [],
   "source": []
  },
  {
   "cell_type": "code",
   "execution_count": 43,
   "metadata": {},
   "outputs": [],
   "source": [
    "# 4. Now, open that map in JOSM\n",
    "#    click on \"imagery\" -> \"bing aerial view\" to add a visual context\n",
    "#    select two lanes and compute the plan\n",
    "#    (you can skip this if it takes time, and move to the next)"
   ]
  },
  {
   "cell_type": "code",
   "execution_count": null,
   "metadata": {},
   "outputs": [],
   "source": []
  },
  {
   "cell_type": "code",
   "execution_count": null,
   "metadata": {},
   "outputs": [],
   "source": [
    "# 5. Routing: go from a lanelet to another"
   ]
  },
  {
   "cell_type": "code",
   "execution_count": 11,
   "metadata": {},
   "outputs": [
    {
     "name": "stdout",
     "output_type": "stream",
     "text": [
      "---- generating all paths from lanelet map ----\n",
      "in 371 lanelets we found 5659 paths \n"
     ]
    }
   ],
   "source": [
    "# let's find all combinations of possible paths from a \n",
    "#    lane to any other\n",
    "print(\"---- generating all paths from lanelet map ----\")\n",
    "trafficRules = lanelet2.traffic_rules.create(\n",
    "                    lanelet2.traffic_rules.Locations.Germany, \n",
    "                    lanelet2.traffic_rules.Participants.Vehicle)\n",
    "graph = lanelet2.routing.RoutingGraph(lmap, trafficRules)\n",
    "# find all optimal paths from lanelet to lanelet with \n",
    "#   all lanelets of the example file\n",
    "paths_found = dict() # {id1_id2: lanelet2.routing.laneletPath}\n",
    "for i in range(0, len(lanes)):\n",
    "    startLane = lanes[i]\n",
    "    for j in range(i, len(lanes)):\n",
    "        endLane = lanes[j]\n",
    "        sp = graph.shortestPath(startLane, endLane)\n",
    "        if sp is not None:\n",
    "            key = \"%d_%d\" % (startLane.id, endLane.id)\n",
    "            paths_found[key] = sp\n",
    "            #print(\"found path in %s: %s\" % (key, sp))\n",
    "print(\"in %d lanelets we found %d paths \" % (len(lanes), len(paths_found)))"
   ]
  },
  {
   "cell_type": "code",
   "execution_count": 42,
   "metadata": {},
   "outputs": [
    {
     "name": "stdout",
     "output_type": "stream",
     "text": [
      "---- plotting path 6722104362058561355 -> 6012398680329441872 ----\n",
      "sequence of 11 (Const)Lanelet(s)\n",
      "\n",
      "(lanelet 0) -> [(305.71, 325.91), (310.17, 328.75), (315.02, 331.41), (316.28, 332.08), (320.54, 334.14), (325.97, 337.21)]\n",
      "(lanelet 1) -> [(325.97, 337.21), (333.93, 340.57)]\n",
      "(lanelet 2) -> [(333.93, 340.57), (340.29, 347.73)]\n",
      "(lanelet 3) -> [(340.29, 347.73), (341.69, 353.95)]\n",
      "(lanelet 4) -> [(343.25, 341.13), (344.12, 347.44), (344.26, 348.53), (345.62, 353.54)]\n",
      "(lanelet 5) -> [(345.62, 353.54), (346.21, 357.85)]\n",
      "(lanelet 6) -> [(346.21, 357.85), (345.91, 364.1), (345.43, 365.81)]\n",
      "(lanelet 7) -> [(345.43, 365.81), (341.76, 374.51), (337.58, 379.14), (331.25, 383.3)]\n",
      "(lanelet 8) -> [(331.25, 383.3), (327.85, 384.85), (324.21, 385.85)]\n",
      "(lanelet 9) -> [(324.21, 385.85), (322.14, 386.12), (317.45, 386.19), (312.53, 385.49)]\n",
      "(lanelet 10) -> [(312.53, 385.49), (303.96, 382.13)]\n"
     ]
    }
   ],
   "source": [
    "# take a path as example and describe it\n",
    "ids, lpath = paths_found.items()[0]\n",
    "id1, id2 = ids.split(\"_\")\n",
    "id1, id2 = int(id1), int(id2)\n",
    "print(\"---- plotting path %d -> %d ----\" % (id1, id2))\n",
    "seq = [p for p in lpath]\n",
    "print(\"sequence of %d (Const)Lanelet(s)\\n\" % len(seq))\n",
    "for i in range(0, len(seq)):\n",
    "    p = seq[i]\n",
    "    print(\"(lanelet %d) -> %s\" % (i, \n",
    "                        [(round(ls.x,2), round(ls.y,2)) for ls in p.leftBound]))"
   ]
  },
  {
   "cell_type": "code",
   "execution_count": null,
   "metadata": {},
   "outputs": [],
   "source": [
    "# try to view these two Lanelets (id0, id1) in JOSM. where are they ? "
   ]
  },
  {
   "cell_type": "code",
   "execution_count": 71,
   "metadata": {},
   "outputs": [],
   "source": [
    "# save this path into an OSM file and try to load it in JOSM\n",
    "#    notice that I am recreating lanets, because a path returns \"const\" lanelets\n",
    "#    (a copy from the original, which cannot be touched again)\n",
    "pathmap = lncore.LaneletMap()\n",
    "for p in seq:\n",
    "    am = p.attributes\n",
    "    lb = lncore.LineString3d(p.leftBound.id,\n",
    "                            [lncore.Point3d(b.id, b.x, b.y, b.z, b.attributes) \n",
    "                                    for b in p.leftBound], \n",
    "                            p.leftBound.attributes)\n",
    "    rb = lncore.LineString3d(p.rightBound.id,\n",
    "                            [lncore.Point3d(b.id, b.x, b.y, b.z, b.attributes) \n",
    "                                    for b in p.rightBound],\n",
    "                            p.rightBound.attributes)\n",
    "    nonconstlane = lncore.Lanelet(p.id, lb, rb, am)\n",
    "    pathmap.add(nonconstlane)\n",
    "\n",
    "map_path = os.path.join(os.path.dirname(os.path.abspath('')), \"data/generated_path.osm\")\n",
    "# broken for bad projector parameters. Idk the parameters\n",
    "#print(\"--- dumping optimal path into %s ---\" % map_path)\n",
    "#projector = lanelet2.projection.UtmProjector(lanelet2.io.Origin(0,0))\n",
    "#lanelet2.io.write(map_path, projector)"
   ]
  },
  {
   "cell_type": "code",
   "execution_count": null,
   "metadata": {},
   "outputs": [],
   "source": []
  }
 ],
 "metadata": {
  "kernelspec": {
   "display_name": "Python 2",
   "language": "python",
   "name": "python2"
  },
  "language_info": {
   "codemirror_mode": {
    "name": "ipython",
    "version": 2
   },
   "file_extension": ".py",
   "mimetype": "text/x-python",
   "name": "python",
   "nbconvert_exporter": "python",
   "pygments_lexer": "ipython2",
   "version": "2.7.12"
  }
 },
 "nbformat": 4,
 "nbformat_minor": 2
}
