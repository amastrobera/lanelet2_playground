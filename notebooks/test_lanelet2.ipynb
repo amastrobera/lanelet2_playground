{
 "cells": [
  {
   "cell_type": "code",
   "execution_count": 1,
   "metadata": {
    "slideshow": {
     "slide_type": "skip"
    }
   },
   "outputs": [],
   "source": [
    "### Lanelet 2"
   ]
  },
  {
   "cell_type": "code",
   "execution_count": 2,
   "metadata": {
    "slideshow": {
     "slide_type": "skip"
    }
   },
   "outputs": [],
   "source": [
    "import lanelet2\n",
    "import lanelet2.core as lncore\n",
    "import os"
   ]
  },
  {
   "cell_type": "code",
   "execution_count": 3,
   "metadata": {
    "slideshow": {
     "slide_type": "slide"
    }
   },
   "outputs": [],
   "source": []
  },
  {
   "cell_type": "code",
   "execution_count": 6,
   "metadata": {},
   "outputs": [],
   "source": [
    "# 1. creating (programmatically) and saving a simple lane"
   ]
  },
  {
   "cell_type": "code",
   "execution_count": 150,
   "metadata": {
    "slideshow": {
     "slide_type": "slide"
    }
   },
   "outputs": [],
   "source": [
    "# simple init an empty map\n",
    "lmap = lncore.LaneletMap()\n",
    "\n",
    "# define a lane with a given left bound and right bound (and attribs)\n",
    "lb = lncore.LineString3d(lncore.getId(),\n",
    "                [lncore.Point3d(lncore.getId(), 4, 0, 0), lncore.Point3d(lncore.getId(), 4, 2, 0),\n",
    "                 lncore.Point3d(lncore.getId(), 3, 3, 1), lncore.Point3d(lncore.getId(), 3, 4, 1)])\n",
    "cb = lncore.LineString3d(lncore.getId(),\n",
    "                [lncore.Point3d(lncore.getId(), 6, 0, 0), lncore.Point3d(lncore.getId(), 6, 2, 0),\n",
    "                 lncore.Point3d(lncore.getId(), 5, 3, 1), lncore.Point3d(lncore.getId(), 5, 4, 1)])\n",
    "rb = lncore.LineString3d(lncore.getId(),\n",
    "                [lncore.Point3d(lncore.getId(), 8, 0, 0), lncore.Point3d(lncore.getId(), 8, 2, 0),\n",
    "                 lncore.Point3d(lncore.getId(), 7, 3, 1), lncore.Point3d(lncore.getId(), 7, 4, 1)])\n",
    "# first lane, normal\n",
    "llet1 = lncore.Lanelet(lncore.getId(), lb, cb, lncore.AttributeMap({\"type\": \"lanelet\"}))\n",
    "# its twin lane is inverted (opposite driving sense)\n",
    "llet2 = lncore.Lanelet(lncore.getId(), cb, rb, lncore.AttributeMap({\"type\": \"lanelet\"})).invert()\n",
    "\n",
    "lmap.add(llet1)\n",
    "lmap.add(llet2)\n",
    "\n",
    "# create a projector in London\n",
    "projector = lanelet2.projection.UtmProjector(lanelet2.io.Origin(51.40, -0.04, 0.0))\n",
    "ll_path = os.path.join(os.path.dirname(os.path.abspath('')), \"data/llet_generated_map.osm\")\n",
    "lanelet2.io.write(ll_path, lmap, projector)"
   ]
  },
  {
   "cell_type": "code",
   "execution_count": 151,
   "metadata": {
    "slideshow": {
     "slide_type": "slide"
    }
   },
   "outputs": [],
   "source": [
    "# 2. examing the result"
   ]
  },
  {
   "cell_type": "code",
   "execution_count": 152,
   "metadata": {
    "slideshow": {
     "slide_type": "slide"
    }
   },
   "outputs": [
    {
     "name": "stdout",
     "output_type": "stream",
     "text": [
      "add\n",
      "areaLayer\n",
      "laneletLayer\n",
      "lineStringLayer\n",
      "pointLayer\n",
      "polygonLayer\n",
      "regulatoryElementLayer\n"
     ]
    }
   ],
   "source": [
    "# what's in a lanelet map? \n",
    "for s in dir(lmap):\n",
    "    if \"__\" not in s:\n",
    "        print s"
   ]
  },
  {
   "cell_type": "code",
   "execution_count": 153,
   "metadata": {},
   "outputs": [
    {
     "name": "stdout",
     "output_type": "stream",
     "text": [
      "--- example of a lanelet ---\n",
      "\n",
      "[id: 9217047218277095743, inverted, left id: 9217047218277095737 (inverted), right id: 9217047218277095732 (inverted)]\n",
      "    * addRegulatoryElement\n",
      "    * attributes\n",
      "    * centerline\n",
      "    * id\n",
      "    * invert\n",
      "    * inverted\n",
      "    * leftBound\n",
      "    * polygon2d\n",
      "    * polygon3d\n",
      "    * regulatoryElements\n",
      "    * removeRegulatoryElement\n",
      "    * rightBound\n",
      "    * rightOfWay\n",
      "    * speedLimits\n",
      "    * trafficLights\n",
      "    * trafficSigns\n"
     ]
    }
   ],
   "source": [
    "# let's look at the the lanelet layer \n",
    "lanes = [lane for lane in lmap.laneletLayer]\n",
    "print(\"--- example of a lanelet ---\\n\\n%s\" % lanes[0])\n",
    "lane0 = lanes[0]\n",
    "for s in dir(lane0):\n",
    "    if \"__\" not in s:\n",
    "        print \"    * %s\" % s"
   ]
  },
  {
   "cell_type": "code",
   "execution_count": 154,
   "metadata": {
    "slideshow": {
     "slide_type": "slide"
    }
   },
   "outputs": [
    {
     "name": "stdout",
     "output_type": "stream",
     "text": [
      "* lanelet left bound\n",
      "    [id: 9217047218277095728 x: 4 y: 0 z: 0] \n",
      "    [id: 9217047218277095729 x: 4 y: 2 z: 0] \n",
      "    [id: 9217047218277095730 x: 3 y: 3 z: 1] \n",
      "    [id: 9217047218277095731 x: 3 y: 4 z: 1] \n",
      "* lanelet left bound\n",
      "    [id: 9217047218277095733 x: 6 y: 0 z: 0] \n",
      "    [id: 9217047218277095734 x: 6 y: 2 z: 0] \n",
      "    [id: 9217047218277095735 x: 5 y: 3 z: 1] \n",
      "    [id: 9217047218277095736 x: 5 y: 4 z: 1] \n"
     ]
    }
   ],
   "source": [
    "print(\"* lanelet left bound\")\n",
    "for p in llet1.leftBound:\n",
    "    print(\"    %s \" % p)\n",
    "print(\"* lanelet left bound\")\n",
    "for p in llet1.rightBound:\n",
    "    print(\"    %s \" % p)"
   ]
  },
  {
   "cell_type": "code",
   "execution_count": null,
   "metadata": {},
   "outputs": [],
   "source": []
  },
  {
   "cell_type": "code",
   "execution_count": null,
   "metadata": {},
   "outputs": [],
   "source": []
  },
  {
   "cell_type": "code",
   "execution_count": null,
   "metadata": {},
   "outputs": [],
   "source": []
  },
  {
   "cell_type": "code",
   "execution_count": 51,
   "metadata": {
    "slideshow": {
     "slide_type": "slide"
    }
   },
   "outputs": [],
   "source": [
    "# 3. Now, open that map in JOSM\n",
    "#       create a map with lanes and change the xml file to add lanelets"
   ]
  },
  {
   "cell_type": "code",
   "execution_count": null,
   "metadata": {
    "slideshow": {
     "slide_type": "skip"
    }
   },
   "outputs": [],
   "source": [
    "#    if you have dawn linestrings in JOSM, the xml will be full of <way> and <nd> items\n",
    "#       now create items <relation> and tag them \"lanelet\"\n",
    "#\n",
    "#    For example, \n",
    "#      <relation id=\"1010\" version=\"1\">\n",
    "#        <member type=\"way\" ref=\"-106947\" role=\"left\" />\n",
    "#        <member type=\"way\" ref=\"-106982\" role=\"right\" />\n",
    "#            <tag k=\"type\" v=\"lanelet\" />\n",
    "#            <tag k=\"subtype\" v=\"road\" />\n",
    "#            <tag k=\"location\" v=\"urban\" />\n",
    "#            <tag k=\"participant\" v=\"vehicle:car\" />\n",
    "#       </relation>"
   ]
  },
  {
   "cell_type": "code",
   "execution_count": 126,
   "metadata": {
    "slideshow": {
     "slide_type": "slide"
    }
   },
   "outputs": [
    {
     "name": "stdout",
     "output_type": "stream",
     "text": [
      "using OSM: /home/developer/workspace/data/tweacked_map.osm (exists? True)\n",
      "0 errors, 2 lanes detected\n"
     ]
    }
   ],
   "source": [
    "osm_path = os.path.join(os.path.dirname(os.path.abspath('')), \"data/tweacked_map.osm\")\n",
    "print(\"using OSM: %s (exists? %s)\" % (osm_path, os.path.exists(osm_path)))\n",
    "projector = lanelet2.projection.UtmProjector(lanelet2.io.Origin(41.15,15.10))\n",
    "lmap, err_list = lanelet2.io.loadRobust(osm_path, projector) \n",
    "print(\"%d errors, %d lanes detected\" % (len(err_list), len([l for l in lmap.laneletLayer])))"
   ]
  },
  {
   "cell_type": "code",
   "execution_count": 130,
   "metadata": {
    "slideshow": {
     "slide_type": "slide"
    }
   },
   "outputs": [
    {
     "name": "stdout",
     "output_type": "stream",
     "text": [
      "\n",
      "lane: [id: 1011, left id: -107500 (inverted), right id: -106982 (inverted)]\n",
      "    0 -> id: -107527 (x: 556.63, y: 1245.03)\n",
      "    1 -> id: -107525 (x: 602.48, y: 1293.51)\n",
      "    2 -> id: -107523 (x: 628.98, y: 1331.65)\n",
      "    3 -> id: -107521 (x: 696.99, y: 1287.35)\n",
      "    4 -> id: -107519 (x: 612.04, y: 1204.30)\n",
      "    5 -> id: -107513 (x: 615.66, y: 1187.72)\n",
      "    6 -> id: -107560 (x: 621.97, y: 1175.62)\n",
      "    7 -> id: -107511 (x: 627.39, y: 1164.42)\n",
      "    8 -> id: -107509 (x: 623.80, y: 1153.21)\n",
      "    9 -> id: -107507 (x: 625.18, y: 1127.65)\n",
      "    10 -> id: -107505 (x: 648.77, y: 978.83)\n",
      "    11 -> id: -107503 (x: 615.92, y: 976.54)\n",
      "    12 -> id: -107501 (x: 604.66, y: 981.91)\n",
      "    13 -> id: -107499 (x: 628.17, y: 896.75)\n",
      "    14 -> id: -107498 (x: 637.71, y: 827.27)\n",
      "\n",
      "lane: [id: 1010, left id: -106947, right id: -106982]\n",
      "    0 -> id: -106980 (x: 628.73, y: 827.67)\n",
      "    1 -> id: -106983 (x: 620.49, y: 889.09)\n",
      "    2 -> id: -106984 (x: 609.02, y: 939.09)\n",
      "    3 -> id: -106985 (x: 592.75, y: 996.20)\n",
      "    4 -> id: -106986 (x: 592.62, y: 994.95)\n",
      "    5 -> id: -106987 (x: 603.77, y: 987.94)\n",
      "    6 -> id: -106988 (x: 637.37, y: 989.54)\n",
      "    7 -> id: -106989 (x: 616.97, y: 1121.95)\n",
      "    8 -> id: -106990 (x: 612.95, y: 1148.03)\n",
      "    9 -> id: -106991 (x: 616.64, y: 1157.51)\n",
      "    10 -> id: -106992 (x: 605.67, y: 1181.78)\n",
      "    11 -> id: -106993 (x: 603.10, y: 1207.74)\n",
      "    12 -> id: -106994 (x: 638.87, y: 1243.46)\n",
      "    13 -> id: -106995 (x: 680.95, y: 1285.49)\n",
      "    14 -> id: -106996 (x: 631.79, y: 1320.18)\n",
      "    15 -> id: -106997 (x: 610.43, y: 1288.18)\n",
      "    16 -> id: -106981 (x: 560.30, y: 1237.23)\n"
     ]
    }
   ],
   "source": [
    "lanes = [l for l in lmap.laneletLayer]\n",
    "\n",
    "lane = lanes[0]\n",
    "print(\"\\nlane: %s\" % (lane))\n",
    "bnd = lane.leftBound\n",
    "for i in range(0, len(bnd)):\n",
    "    print(\"    %d -> id: %d (x: %.2f, y: %.2f)\" % (i, bnd[i].id, bnd[i].x, bnd[i].y))\n",
    "\n",
    "lane = lanes[1]\n",
    "print(\"\\nlane: %s\" % (lane))\n",
    "bnd = lane.rightBound\n",
    "for i in range(0, len(bnd)):\n",
    "    print(\"    %d -> id: %d (x: %.2f, y: %.2f)\" % (i, bnd[i].id, bnd[i].x, bnd[i].y))"
   ]
  },
  {
   "cell_type": "code",
   "execution_count": 147,
   "metadata": {
    "slideshow": {
     "slide_type": "slide"
    }
   },
   "outputs": [
    {
     "name": "stdout",
     "output_type": "stream",
     "text": [
      "    0 -> id: 0 (x: 623.77, y: 827.01)\n",
      "    1 -> id: 0 (x: 619.68, y: 857.49)\n",
      "    2 -> id: 0 (x: 615.56, y: 888.20)\n",
      "    3 -> id: 0 (x: 609.82, y: 913.20)\n",
      "    ... etc \n"
     ]
    }
   ],
   "source": [
    "# bonus! the centerline\n",
    "\n",
    "cline = lane.centerline\n",
    "for i in range(0, 4):#len(cline)):\n",
    "    print(\"    %d -> id: %d (x: %.2f, y: %.2f)\" % (i, cline[i].id, cline[i].x, cline[i].y))\n",
    "print(\"    ... etc \")"
   ]
  },
  {
   "cell_type": "code",
   "execution_count": null,
   "metadata": {
    "slideshow": {
     "slide_type": "slide"
    }
   },
   "outputs": [],
   "source": [
    "# 4. reading an existing OSM map"
   ]
  },
  {
   "cell_type": "code",
   "execution_count": 54,
   "metadata": {
    "slideshow": {
     "slide_type": "slide"
    }
   },
   "outputs": [
    {
     "name": "stdout",
     "output_type": "stream",
     "text": [
      "using OSM: /home/developer/workspace/data/mapping_example.osm (exists? True)\n",
      "0 errors, 371 lanes detected\n"
     ]
    }
   ],
   "source": [
    "osm_path = os.path.join(os.path.dirname(os.path.abspath('')), \"data/mapping_example.osm\")\n",
    "print(\"using OSM: %s (exists? %s)\" % (osm_path, os.path.exists(osm_path)))\n",
    "projector = lanelet2.projection.UtmProjector(lanelet2.io.Origin(49.00,8.42))\n",
    "lmap, err_list = lanelet2.io.loadRobust(osm_path, projector) \n",
    "print(\"%d errors, %d lanes detected\" % (len(err_list), len([l for l in lmap.laneletLayer])))"
   ]
  },
  {
   "cell_type": "code",
   "execution_count": 57,
   "metadata": {
    "slideshow": {
     "slide_type": "slide"
    }
   },
   "outputs": [
    {
     "name": "stdout",
     "output_type": "stream",
     "text": [
      "* example of the laneletLayer (first 10)\n",
      "\n",
      "[id: 9178926741377113721, left id: 997750960516616982, right id: 2216115017118688772]\n",
      "[id: 9037740909199276460, left id: 6937946819898808252, right id: 1729046099968656320]\n",
      "[id: 8717970484406193818, left id: 5537827893167917386 (inverted), right id: 3128557769764614810]\n",
      "[id: 8601933696747810962, left id: 2757326693420322496, right id: 2764641530780420290 (inverted)]\n",
      "[id: 8396043010843852718, left id: 4860616454757881010 (inverted), right id: 2785499205350414700 (inverted)]\n",
      "[id: 7599071200282796306, left id: 4406727741069666934, right id: 43190 (inverted)]\n",
      "[id: 7326074532659563937, left id: 5214965862031460312, right id: 43270 (inverted)]\n",
      "[id: 7195674799508775743, left id: 6960048458279195872, right id: 43178 (inverted)]\n",
      "[id: 6980464299688733498, left id: 5375602761775609010, right id: 3440717602992035100 (inverted)]\n",
      "[id: 6923355182620813640, left id: 5552362054548145838, right id: 2420601589665656822]\n"
     ]
    }
   ],
   "source": [
    "nmax = 10\n",
    "print(\"* example of the laneletLayer (first %d)\\n\" % nmax)\n",
    "for ln in lmap.laneletLayer:\n",
    "    print ln\n",
    "    nmax -= 1\n",
    "    if nmax == 0:\n",
    "        break"
   ]
  },
  {
   "cell_type": "code",
   "execution_count": 61,
   "metadata": {
    "slideshow": {
     "slide_type": "slide"
    }
   },
   "outputs": [
    {
     "name": "stdout",
     "output_type": "stream",
     "text": [
      "(location, urban)\n",
      "(one_way, yes)\n",
      "(region, de)\n",
      "(subtype, road)\n",
      "(type, lanelet)\n"
     ]
    }
   ],
   "source": [
    "invlane = lmap.laneletLayer[8396043010843852718]\n",
    "for a in invlane.attributes:\n",
    "    print a"
   ]
  },
  {
   "cell_type": "code",
   "execution_count": 155,
   "metadata": {
    "slideshow": {
     "slide_type": "slide"
    }
   },
   "outputs": [
    {
     "name": "stdout",
     "output_type": "stream",
     "text": [
      "left bound is a <class 'lanelet2.core.LineString3d'>\n",
      "\n",
      "(type, road_border)\n",
      "\n",
      "original\n",
      "[id: 39120 x: 327.67 y: 331.412 z: 0]\n",
      "[id: 39118 x: 333.101 y: 325.933 z: 0]\n",
      "[id: 39318 x: 336.352 y: 322.677 z: 0]\n",
      "\n",
      "left bound is inverted? True\n",
      "\n",
      "inverted\n",
      "[id: 39318 x: 336.352 y: 322.677 z: 0]\n",
      "[id: 39118 x: 333.101 y: 325.933 z: 0]\n",
      "[id: 39120 x: 327.67 y: 331.412 z: 0]\n"
     ]
    }
   ],
   "source": [
    "lb = invlane.leftBound\n",
    "print(\"left bound is a %s\\n\" % type(lb))\n",
    "for a in lb.attributes:\n",
    "    print a\n",
    "print (\"\\noriginal\")\n",
    "for p in lb:\n",
    "    print p\n",
    "print(\"\\nleft bound is inverted? %s\" % lb.inverted())\n",
    "print(\"\\ninverted\")\n",
    "for p in lb.invert():\n",
    "    print p"
   ]
  },
  {
   "cell_type": "code",
   "execution_count": 66,
   "metadata": {
    "slideshow": {
     "slide_type": "slide"
    }
   },
   "outputs": [],
   "source": [
    "# 5. Routing: go from a lanelet to another"
   ]
  },
  {
   "cell_type": "code",
   "execution_count": 94,
   "metadata": {
    "slideshow": {
     "slide_type": "slide"
    }
   },
   "outputs": [],
   "source": [
    "# create a graph of roads\n",
    "# ... and traffic rules (Germany)\n",
    "\n",
    "trafficRules = lanelet2.traffic_rules.create(lanelet2.traffic_rules.Locations.Germany, \n",
    "                                             lanelet2.traffic_rules.Participants.Vehicle)\n",
    "graph = lanelet2.routing.RoutingGraph(lmap, trafficRules)"
   ]
  },
  {
   "cell_type": "code",
   "execution_count": 76,
   "metadata": {
    "slideshow": {
     "slide_type": "skip"
    }
   },
   "outputs": [
    {
     "name": "stdout",
     "output_type": "stream",
     "text": [
      "found 11379 connected lanes with shortest path\n"
     ]
    }
   ],
   "source": [
    "# find all possible combination of routes that connect with a path\n",
    "\n",
    "sp_map = dict()\n",
    "for startLane in lmap.laneletLayer:\n",
    "    for endLane in lmap.laneletLayer:\n",
    "        if startLane.id != endLane.id:\n",
    "            k = \"%d_%d\" % (startLane.id, endLane.id)\n",
    "            rk = \"%d_%d\" % (endLane.id, startLane.id)\n",
    "            sp = graph.shortestPath(startLane, endLane)\n",
    "            if sp is not None:\n",
    "                if k not in sp_map and rk not in sp_map:\n",
    "                    sp_map[k] = sp\n",
    "                \n",
    "print(\"found %d connected lanes with shortest path\" % len(sp_map))"
   ]
  },
  {
   "cell_type": "code",
   "execution_count": 77,
   "metadata": {
    "slideshow": {
     "slide_type": "skip"
    }
   },
   "outputs": [
    {
     "name": "stdout",
     "output_type": "stream",
     "text": [
      "print the first 5\n",
      "6722104362058561355_6012398680329441872\n",
      "5662180970588112254_6905469033316639457\n",
      "329661501650965856_7326074532659563937\n",
      "6771979691019578165_5872433480342781773\n",
      "738566528952162269_1507837371260062763\n"
     ]
    }
   ],
   "source": [
    "# print 5 of them\n",
    "\n",
    "nmax = 5\n",
    "print(\"print the first %d\" % nmax)\n",
    "for k,v in sp_map.items():\n",
    "    if nmax == 0:\n",
    "        break\n",
    "    print k\n",
    "    nmax -= 1"
   ]
  },
  {
   "cell_type": "code",
   "execution_count": 95,
   "metadata": {
    "slideshow": {
     "slide_type": "slide"
    }
   },
   "outputs": [
    {
     "name": "stdout",
     "output_type": "stream",
     "text": [
      "found a path of 11 lanes\n"
     ]
    }
   ],
   "source": [
    "# calculate the shortest path between two lanes\n",
    "\n",
    "startLane = lmap.laneletLayer[6722104362058561355]\n",
    "endLane = lmap.laneletLayer[6012398680329441872]\n",
    "\n",
    "rt = graph.getRoute(startLane, endLane)\n",
    "lpath = rt.shortestPath()\n",
    "\n",
    "print (\"found a path of %d lanes\" % len(lpath))"
   ]
  },
  {
   "cell_type": "code",
   "execution_count": 96,
   "metadata": {
    "slideshow": {
     "slide_type": "slide"
    }
   },
   "outputs": [
    {
     "name": "stdout",
     "output_type": "stream",
     "text": [
      "1 -> [id: 43274, inverted point ids: 39264, 5620426488315080917, 4178248808544971958, 5891730753352617444, 5092834017878320153, 39010]\n",
      "2 -> [id: 4472525114828817454 point ids: 39010, 39012]\n",
      "3 -> [id: 5364935859541665514 point ids: 39012, 39014]\n",
      "4 -> [id: 7771453129580263158 point ids: 39014, 823184189807104402]\n",
      "5 -> [id: 4184469305594286820 point ids: 39360, 1311074889340970713, 3315398858022624714, 39362]\n",
      "6 -> [id: 6110808963413952566 point ids: 39362, 5193105940432714582]\n",
      "7 -> [id: 820629469327080082 point ids: 5193105940432714582, 39364, 623900778772383003]\n",
      "8 -> [id: 43276 point ids: 623900778772383003, 39366, 3869800126136037116, 39368]\n",
      "9 -> [id: 1455522156257738290 point ids: 39368, 8047403787857310581, 7778723713793902769]\n",
      "10 -> [id: 6611545435134106938 point ids: 7778723713793902769, 39370, 4011328339141421088, 39372]\n",
      "11 -> [id: 5687678308327519612 point ids: 39372, 39374]\n"
     ]
    }
   ],
   "source": [
    "# show the path \n",
    "\n",
    "for i in range(0, len(lpath)):\n",
    "    print(\"%d -> %s\" % (1+i, lpath[i].leftBound))"
   ]
  },
  {
   "cell_type": "code",
   "execution_count": 97,
   "metadata": {
    "slideshow": {
     "slide_type": "slide"
    }
   },
   "outputs": [
    {
     "name": "stdout",
     "output_type": "stream",
     "text": [
      "1 -> [id: 43274, inverted point ids: 39264, 5620426488315080917, 4178248808544971958, 5891730753352617444, 5092834017878320153, 39010]\n",
      "2 -> [id: 4472525114828817454 point ids: 39010, 39012]\n",
      "3 -> [id: 5364935859541665514 point ids: 39012, 39014]\n",
      "4 -> [id: 7771453129580263158 point ids: 39014, 823184189807104402]\n"
     ]
    }
   ],
   "source": [
    "# show the path (restricted to not change lane)\n",
    "\n",
    "rempath = lpath.getRemainingLane(lpath[0])\n",
    "for i in range(0, len(rempath)):\n",
    "    print(\"%d -> %s\" % (1+i, rempath[i].leftBound))"
   ]
  },
  {
   "cell_type": "code",
   "execution_count": null,
   "metadata": {},
   "outputs": [],
   "source": []
  }
 ],
 "metadata": {
  "celltoolbar": "Slideshow",
  "kernelspec": {
   "display_name": "Python 2",
   "language": "python",
   "name": "python2"
  },
  "language_info": {
   "codemirror_mode": {
    "name": "ipython",
    "version": 2
   },
   "file_extension": ".py",
   "mimetype": "text/x-python",
   "name": "python",
   "nbconvert_exporter": "python",
   "pygments_lexer": "ipython2",
   "version": "2.7.12"
  }
 },
 "nbformat": 4,
 "nbformat_minor": 2
}
