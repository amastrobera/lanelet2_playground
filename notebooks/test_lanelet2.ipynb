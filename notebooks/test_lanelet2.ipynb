{
 "cells": [
  {
   "cell_type": "code",
   "execution_count": 2,
   "metadata": {},
   "outputs": [],
   "source": [
    "### Lanelet 2"
   ]
  },
  {
   "cell_type": "code",
   "execution_count": 7,
   "metadata": {},
   "outputs": [],
   "source": [
    "import lanelet2\n",
    "import lanelet2.core as lncore\n",
    "import os"
   ]
  },
  {
   "cell_type": "code",
   "execution_count": 8,
   "metadata": {},
   "outputs": [],
   "source": [
    "# 1. reading an existing OSM map"
   ]
  },
  {
   "cell_type": "code",
   "execution_count": 27,
   "metadata": {},
   "outputs": [
    {
     "name": "stdout",
     "output_type": "stream",
     "text": [
      "using OSM: /home/developer/workspace/data/Autonomoustuff.osm (exists? True)\n"
     ]
    }
   ],
   "source": [
    "osm_path = os.path.join(os.path.dirname(os.path.abspath('')), \"data/Autonomoustuff.osm\")\n",
    "print(\"using OSM: %s (exists? %s)\" % (osm_path, os.path.exists(osm_path)))\n",
    "# crash here with external map: todo: use Fabian's\n",
    "#projector = lanelet2.projection.UtmProjector(\n",
    "#                lanelet2.io.Origin(51.49,-0.04))\n",
    "#lmap = lanelet2.io.load(osm_path, projector) \n",
    "# horribly crash: \"Error reading primitive with id 74660 from \n",
    "#                  file: Relation has nonexistent member 550284583\"\n",
    "#               etc etc ..."
   ]
  },
  {
   "cell_type": "code",
   "execution_count": 10,
   "metadata": {},
   "outputs": [],
   "source": [
    "# 2. creating (programmatically) and saving a simple lane"
   ]
  },
  {
   "cell_type": "code",
   "execution_count": 11,
   "metadata": {},
   "outputs": [],
   "source": [
    "# simple init an empty map\n",
    "lmap = lncore.LaneletMap()\n",
    "\n",
    "# define a lane with a given left bound and right bound (and attribs)\n",
    "am = lncore.AttributeMap({\"type\": \"lanelet\"})\n",
    "lb = lncore.LineString3d(lncore.getId(),\n",
    "                [lncore.Point3d(lncore.getId(), 4, 0, 0), lncore.Point3d(lncore.getId(), 4, 2, 0),\n",
    "                 lncore.Point3d(lncore.getId(), 3, 3, 1), lncore.Point3d(lncore.getId(), 3, 4, 1)])\n",
    "rb = lncore.LineString3d(lncore.getId(),\n",
    "                [lncore.Point3d(lncore.getId(), 6, 0, 0), lncore.Point3d(lncore.getId(), 6, 2, 0),\n",
    "                 lncore.Point3d(lncore.getId(), 5, 3, 1), lncore.Point3d(lncore.getId(), 5, 4, 1)])\n",
    "llet1 = lncore.Lanelet(lncore.getId(), lb, rb, am)\n",
    "\n",
    "lmap.add(llet1)\n",
    "\n",
    "# create a projector in London\n",
    "projector = lanelet2.projection.UtmProjector(lanelet2.io.Origin(51.40, -0.04, 0.0))\n",
    "ll_path = os.path.join(os.path.dirname(os.path.abspath('')), \"data/llet_generated_map.osm\")\n",
    "lanelet2.io.write(ll_path, lmap, projector)"
   ]
  },
  {
   "cell_type": "code",
   "execution_count": 12,
   "metadata": {},
   "outputs": [],
   "source": [
    "# 3. examing the result"
   ]
  },
  {
   "cell_type": "code",
   "execution_count": 13,
   "metadata": {},
   "outputs": [
    {
     "name": "stdout",
     "output_type": "stream",
     "text": [
      "* lanelet left bound\n",
      "    [id: 6451325976 x: 4 y: 0 z: 0] \n",
      "    [id: 6451325977 x: 4 y: 2 z: 0] \n",
      "    [id: 6451325978 x: 3 y: 3 z: 1] \n",
      "    [id: 6451325979 x: 3 y: 4 z: 1] \n",
      "* lanelet left bound\n",
      "    [id: 6451325981 x: 6 y: 0 z: 0] \n",
      "    [id: 6451325982 x: 6 y: 2 z: 0] \n",
      "    [id: 6451325983 x: 5 y: 3 z: 1] \n",
      "    [id: 6451325984 x: 5 y: 4 z: 1] \n"
     ]
    }
   ],
   "source": [
    "print(\"* lanelet left bound\")\n",
    "for p in llet1.leftBound:\n",
    "    print(\"    %s \" % p)\n",
    "print(\"* lanelet left bound\")\n",
    "for p in llet1.rightBound:\n",
    "    print(\"    %s \" % p)"
   ]
  },
  {
   "cell_type": "code",
   "execution_count": 66,
   "metadata": {},
   "outputs": [],
   "source": [
    "# 4. routing: go from a lanelet to another"
   ]
  },
  {
   "cell_type": "code",
   "execution_count": 15,
   "metadata": {},
   "outputs": [],
   "source": [
    "ll_path = os.path.join(os.path.dirname(os.path.abspath('')), \"data/llet_generated_map.osm\")\n",
    "lmap = lanelet2.io.load(ll_path, lanelet2.io.Origin(51.40, -0.04, 0.0))"
   ]
  },
  {
   "cell_type": "code",
   "execution_count": 16,
   "metadata": {},
   "outputs": [
    {
     "name": "stdout",
     "output_type": "stream",
     "text": [
      "add\n",
      "areaLayer\n",
      "laneletLayer\n",
      "lineStringLayer\n",
      "pointLayer\n",
      "polygonLayer\n",
      "regulatoryElementLayer\n"
     ]
    }
   ],
   "source": [
    "# what's in a lanelet map? \n",
    "for s in dir(lmap):\n",
    "    if \"__\" not in s:\n",
    "        print s"
   ]
  },
  {
   "cell_type": "code",
   "execution_count": 20,
   "metadata": {},
   "outputs": [
    {
     "name": "stdout",
     "output_type": "stream",
     "text": [
      "--- example of a lanelet ---\n",
      "\n",
      "[id: 6451325985, left id: 6451325975, right id: 6451325980]\n",
      "    * addRegulatoryElement\n",
      "    * attributes\n",
      "    * centerline\n",
      "    * id\n",
      "    * invert\n",
      "    * inverted\n",
      "    * leftBound\n",
      "    * polygon2d\n",
      "    * polygon3d\n",
      "    * regulatoryElements\n",
      "    * removeRegulatoryElement\n",
      "    * rightBound\n",
      "    * rightOfWay\n",
      "    * speedLimits\n",
      "    * trafficLights\n",
      "    * trafficSigns\n",
      "--- all lanes ---\n",
      "\n",
      "[id: 6451325985, left id: 6451325975, right id: 6451325980]\n"
     ]
    }
   ],
   "source": [
    "# let's look at the the lanelet layer \n",
    "lanes = [lane for lane in lmap.laneletLayer]\n",
    "print(\"--- example of a lanelet ---\\n\\n%s\" % lanes[0])\n",
    "lane0 = lanes[0]\n",
    "for s in dir(lane0):\n",
    "    if \"__\" not in s:\n",
    "        print \"    * %s\" % s\n",
    "print(\"--- all lanes ---\\n\")\n",
    "for lane in lanes:\n",
    "    print(lane)"
   ]
  },
  {
   "cell_type": "code",
   "execution_count": 21,
   "metadata": {},
   "outputs": [],
   "source": [
    "# let's find two specific lanes (in JOSM)\n",
    "startLane = lmap.laneletLayer[6451325985]\n",
    "endLane = lmap.laneletLayer[6451325985]"
   ]
  },
  {
   "cell_type": "code",
   "execution_count": 22,
   "metadata": {},
   "outputs": [],
   "source": [
    "# ... and traffic rules (Germany is the sole location, \n",
    "#                        and luckily for us, we are in Germany)\n",
    "trafficRules = lanelet2.traffic_rules.create(lanelet2.traffic_rules.Locations.Germany, \n",
    "                                             lanelet2.traffic_rules.Participants.Vehicle)\n",
    "graph = lanelet2.routing.RoutingGraph(lmap, trafficRules)"
   ]
  },
  {
   "cell_type": "code",
   "execution_count": 23,
   "metadata": {},
   "outputs": [
    {
     "name": "stdout",
     "output_type": "stream",
     "text": [
      "<lanelet2.routing.LaneletPath object at 0x7fa11eefd150>\n"
     ]
    }
   ],
   "source": [
    "sp = graph.shortestPath(startLane, endLane)\n",
    "print sp"
   ]
  },
  {
   "cell_type": "code",
   "execution_count": 24,
   "metadata": {},
   "outputs": [
    {
     "name": "stdout",
     "output_type": "stream",
     "text": [
      "<lanelet2.routing.Route object at 0x7fa11eed7d70>\n"
     ]
    }
   ],
   "source": [
    "rt = graph.getRoute(startLane, endLane)\n",
    "print rt"
   ]
  }
 ],
 "metadata": {
  "kernelspec": {
   "display_name": "Python 2",
   "language": "python",
   "name": "python2"
  },
  "language_info": {
   "codemirror_mode": {
    "name": "ipython",
    "version": 2
   },
   "file_extension": ".py",
   "mimetype": "text/x-python",
   "name": "python",
   "nbconvert_exporter": "python",
   "pygments_lexer": "ipython2",
   "version": "2.7.12"
  }
 },
 "nbformat": 4,
 "nbformat_minor": 2
}
