{
 "cells": [
  {
   "cell_type": "code",
   "execution_count": null,
   "metadata": {
    "slideshow": {
     "slide_type": "skip"
    }
   },
   "outputs": [],
   "source": [
    "### Lanelet 2"
   ]
  },
  {
   "cell_type": "code",
   "execution_count": null,
   "metadata": {
    "slideshow": {
     "slide_type": "skip"
    }
   },
   "outputs": [],
   "source": [
    "import lanelet2\n",
    "import lanelet2.core as lncore\n",
    "from osgeo import ogr\n",
    "from shapely import wkt as swkt\n",
    "import os\n",
    "\n",
    "# helper functions\n",
    "\n",
    "# ----- making shapes ------\n",
    "def make_geom_lanelet(llet):\n",
    "    geom = ogr.Geometry(ogr.wkbMultiLineString)\n",
    "    \n",
    "    lb = ogr.Geometry(ogr.wkbLineString)\n",
    "    for p in llet.leftBound:\n",
    "        lb.AddPoint(p.x, p.y)\n",
    "    rb = ogr.Geometry(ogr.wkbLineString)\n",
    "    for p in llet.rightBound:\n",
    "        rb.AddPoint(p.x, p.y)\n",
    "\n",
    "    geom.AddGeometry(lb)\n",
    "    geom.AddGeometry(rb)\n",
    "    return geom\n",
    "\n",
    "def make_geom_lanelet_map(lmap):\n",
    "    geom = ogr.Geometry(ogr.wkbGeometryCollection)\n",
    "    for llet in lmap.laneletLayer:\n",
    "        geom.AddGeometry(make_geom_lanelet(llet))\n",
    "    return geom\n",
    "\n",
    "def make_geom_lanelet_path(lpath):\n",
    "    geom = ogr.Geometry(ogr.wkbGeometryCollection)\n",
    "    for llet in lpath:\n",
    "        geom.AddGeometry(make_geom_lanelet(llet))\n",
    "    return geom\n",
    "\n",
    "def make_geom_lanelet_path_restricted(lpath):\n",
    "    geom = ogr.Geometry(ogr.wkbGeometryCollection)\n",
    "    rempath = lpath.getRemainingLane(lpath[0])\n",
    "    for i in range(0, len(rempath)):\n",
    "        geom.AddGeometry(make_geom_lanelet(rempath[i]))\n",
    "    return geom\n"
   ]
  },
  {
   "cell_type": "code",
   "execution_count": null,
   "metadata": {
    "slideshow": {
     "slide_type": "slide"
    }
   },
   "outputs": [],
   "source": [
    "# 1. creating (programmatically) and saving a simple lane"
   ]
  },
  {
   "cell_type": "code",
   "execution_count": null,
   "metadata": {
    "slideshow": {
     "slide_type": "slide"
    }
   },
   "outputs": [],
   "source": [
    "# simple init an empty map\n",
    "lmap = lncore.LaneletMap()\n",
    "\n",
    "# define a lane with a given left bound and right bound (and attribs)\n",
    "lb = lncore.LineString3d(lncore.getId(),\n",
    "                [lncore.Point3d(lncore.getId(), 4, 0, 0), lncore.Point3d(lncore.getId(), 4, 2, 0),\n",
    "                 lncore.Point3d(lncore.getId(), 3, 3, 1), lncore.Point3d(lncore.getId(), 3, 4, 1)])\n",
    "cb = lncore.LineString3d(lncore.getId(),\n",
    "                [lncore.Point3d(lncore.getId(), 6, 0, 0), lncore.Point3d(lncore.getId(), 6, 2, 0),\n",
    "                 lncore.Point3d(lncore.getId(), 5, 3, 1), lncore.Point3d(lncore.getId(), 5, 4, 1)])\n",
    "rb = lncore.LineString3d(lncore.getId(),\n",
    "                [lncore.Point3d(lncore.getId(), 8, 0, 0), lncore.Point3d(lncore.getId(), 8, 2, 0),\n",
    "                 lncore.Point3d(lncore.getId(), 7, 3, 1), lncore.Point3d(lncore.getId(), 7, 4, 1)])\n",
    "# first lane, normal\n",
    "llet1 = lncore.Lanelet(lncore.getId(), lb, cb, lncore.AttributeMap({\"type\": \"lanelet\"}))\n",
    "# its twin lane is inverted (opposite driving sense)\n",
    "llet2 = lncore.Lanelet(lncore.getId(), cb, rb, lncore.AttributeMap({\"type\": \"lanelet\"})).invert()\n",
    "\n",
    "lmap.add(llet1)\n",
    "lmap.add(llet2)\n",
    "\n",
    "# create a projector in London\n",
    "projector = lanelet2.projection.UtmProjector(lanelet2.io.Origin(51.40, -0.04, 0.0))\n",
    "ll_path = os.path.join(os.path.dirname(os.path.abspath('')), \"data/llet_generated_map.osm\")\n",
    "lanelet2.io.write(ll_path, lmap, projector)"
   ]
  },
  {
   "cell_type": "code",
   "execution_count": null,
   "metadata": {
    "slideshow": {
     "slide_type": "slide"
    }
   },
   "outputs": [],
   "source": [
    "# 2. examing the result"
   ]
  },
  {
   "cell_type": "code",
   "execution_count": null,
   "metadata": {
    "slideshow": {
     "slide_type": "slide"
    }
   },
   "outputs": [],
   "source": [
    "# what's in a lanelet map? \n",
    "for s in dir(lmap):\n",
    "    if \"__\" not in s:\n",
    "        print s"
   ]
  },
  {
   "cell_type": "code",
   "execution_count": null,
   "metadata": {
    "slideshow": {
     "slide_type": "slide"
    }
   },
   "outputs": [],
   "source": [
    "# what did I draw ? \n",
    "# plot it here \n",
    "geom = make_geom_lanelet_map(lmap)\n",
    "swkt.loads(geom.ExportToWkt())"
   ]
  },
  {
   "cell_type": "code",
   "execution_count": null,
   "metadata": {
    "slideshow": {
     "slide_type": "slide"
    }
   },
   "outputs": [],
   "source": [
    "# let's look at the the lanelet layer \n",
    "lanes = [lane for lane in lmap.laneletLayer]\n",
    "print(\"--- example of a lanelet ---\\n\\n%s\" % lanes[0])\n",
    "lane0 = lanes[0]\n",
    "for s in dir(lane0):\n",
    "    if \"__\" not in s:\n",
    "        print \"    * %s\" % s"
   ]
  },
  {
   "cell_type": "code",
   "execution_count": null,
   "metadata": {
    "slideshow": {
     "slide_type": "slide"
    }
   },
   "outputs": [],
   "source": [
    "print(\"* lanelet left bound\")\n",
    "for p in llet1.leftBound:\n",
    "    print(\"    %s \" % p)\n",
    "print(\"* lanelet left bound\")\n",
    "for p in llet1.rightBound:\n",
    "    print(\"    %s \" % p)"
   ]
  },
  {
   "cell_type": "code",
   "execution_count": null,
   "metadata": {
    "slideshow": {
     "slide_type": "slide"
    }
   },
   "outputs": [],
   "source": [
    "# 3. Now, open that map in JOSM\n",
    "#       create a map with lanes and change the xml file to add lanelets"
   ]
  },
  {
   "cell_type": "code",
   "execution_count": null,
   "metadata": {
    "slideshow": {
     "slide_type": "skip"
    }
   },
   "outputs": [],
   "source": [
    "#    if you have dawn linestrings in JOSM, the xml will be full of <way> and <nd> items\n",
    "#       now create items <relation> and tag them \"lanelet\"\n",
    "#\n",
    "#    For example, \n",
    "#      <relation id=\"1010\" version=\"1\">\n",
    "#        <member type=\"way\" ref=\"-106947\" role=\"left\" />\n",
    "#        <member type=\"way\" ref=\"-106982\" role=\"right\" />\n",
    "#            <tag k=\"type\" v=\"lanelet\" />\n",
    "#            <tag k=\"subtype\" v=\"road\" />\n",
    "#            <tag k=\"location\" v=\"urban\" />\n",
    "#            <tag k=\"participant\" v=\"vehicle:car\" />\n",
    "#       </relation>"
   ]
  },
  {
   "cell_type": "code",
   "execution_count": null,
   "metadata": {
    "slideshow": {
     "slide_type": "slide"
    }
   },
   "outputs": [],
   "source": [
    "# let's read the tweaked_josm_map.osm\n",
    "\n",
    "osm_path = os.path.join(os.path.dirname(os.path.abspath('')), \"data/tweaked_map.osm\")\n",
    "print(\"using OSM: %s (exists? %s)\" % (osm_path, os.path.exists(osm_path)))\n",
    "\n",
    "projector = lanelet2.projection.UtmProjector(lanelet2.io.Origin(41.15,15.10))\n",
    "lmap, err_list = lanelet2.io.loadRobust(osm_path, projector)\n",
    "\n",
    "print(\"%d errors, %d lanes detected\" % (len(err_list), len([l for l in lmap.laneletLayer])))"
   ]
  },
  {
   "cell_type": "code",
   "execution_count": null,
   "metadata": {
    "slideshow": {
     "slide_type": "slide"
    }
   },
   "outputs": [],
   "source": [
    "# what did I load ? \n",
    "geom = make_geom_lanelet_map(lmap)\n",
    "swkt.loads(geom.ExportToWkt())"
   ]
  },
  {
   "cell_type": "code",
   "execution_count": null,
   "metadata": {
    "slideshow": {
     "slide_type": "skip"
    }
   },
   "outputs": [],
   "source": [
    "lanes = [l for l in lmap.laneletLayer]\n",
    "\n",
    "lane = lanes[0]\n",
    "print(\"\\nlane: %s\" % (lane))\n",
    "bnd = lane.leftBound\n",
    "for i in range(0, len(bnd)):\n",
    "    print(\"    %d -> id: %d (x: %.2f, y: %.2f)\" % (i, bnd[i].id, bnd[i].x, bnd[i].y))\n",
    "\n",
    "lane = lanes[1]\n",
    "print(\"\\nlane: %s\" % (lane))\n",
    "bnd = lane.rightBound\n",
    "for i in range(0, len(bnd)):\n",
    "    print(\"    %d -> id: %d (x: %.2f, y: %.2f)\" % (i, bnd[i].id, bnd[i].x, bnd[i].y))"
   ]
  },
  {
   "cell_type": "code",
   "execution_count": null,
   "metadata": {
    "slideshow": {
     "slide_type": "skip"
    }
   },
   "outputs": [],
   "source": [
    "# bonus! the centerline\n",
    "\n",
    "cline = lane.centerline\n",
    "for i in range(0, 4):#len(cline)):\n",
    "    print(\"    %d -> id: %d (x: %.2f, y: %.2f)\" % (i, cline[i].id, cline[i].x, cline[i].y))\n",
    "print(\"    ... etc \")"
   ]
  },
  {
   "cell_type": "code",
   "execution_count": null,
   "metadata": {
    "slideshow": {
     "slide_type": "slide"
    }
   },
   "outputs": [],
   "source": [
    "# 4. reading an existing OSM map"
   ]
  },
  {
   "cell_type": "code",
   "execution_count": null,
   "metadata": {
    "slideshow": {
     "slide_type": "slide"
    }
   },
   "outputs": [],
   "source": [
    "# let's download the example from lanelet git repo\n",
    "\n",
    "osm_path = os.path.join(os.path.dirname(os.path.abspath('')), \"data/mapping_example.osm\")\n",
    "print(\"using OSM: %s (exists? %s)\" % (osm_path, os.path.exists(osm_path)))\n",
    "\n",
    "projector = lanelet2.projection.UtmProjector(lanelet2.io.Origin(49.00,8.42))\n",
    "lmap, err_list = lanelet2.io.loadRobust(osm_path, projector) \n",
    "\n",
    "print(\"%d errors, %d lanes detected\" % (len(err_list), len([l for l in lmap.laneletLayer])))"
   ]
  },
  {
   "cell_type": "code",
   "execution_count": null,
   "metadata": {
    "slideshow": {
     "slide_type": "skip"
    }
   },
   "outputs": [],
   "source": [
    "# what did I load ? \n",
    "geom = make_geom_lanelet_map(lmap)\n",
    "swkt.loads(geom.ExportToWkt())"
   ]
  },
  {
   "cell_type": "code",
   "execution_count": null,
   "metadata": {
    "slideshow": {
     "slide_type": "skip"
    }
   },
   "outputs": [],
   "source": [
    "nmax = 10\n",
    "print(\"* example of the laneletLayer (first %d)\\n\" % nmax)\n",
    "for ln in lmap.laneletLayer:\n",
    "    print ln\n",
    "    nmax -= 1\n",
    "    if nmax == 0:\n",
    "        break"
   ]
  },
  {
   "cell_type": "code",
   "execution_count": null,
   "metadata": {
    "slideshow": {
     "slide_type": "skip"
    }
   },
   "outputs": [],
   "source": [
    "invlane = lmap.laneletLayer[8396043010843852718]\n",
    "for a in invlane.attributes:\n",
    "    print a"
   ]
  },
  {
   "cell_type": "code",
   "execution_count": null,
   "metadata": {
    "slideshow": {
     "slide_type": "skip"
    }
   },
   "outputs": [],
   "source": [
    "lb = invlane.leftBound\n",
    "print(\"left bound is a %s\\n\" % type(lb))\n",
    "for a in lb.attributes:\n",
    "    print a\n",
    "print (\"\\noriginal\")\n",
    "for p in lb:\n",
    "    print p\n",
    "print(\"\\nleft bound is inverted? %s\" % lb.inverted())\n",
    "print(\"\\ninverted\")\n",
    "for p in lb.invert():\n",
    "    print p"
   ]
  },
  {
   "cell_type": "code",
   "execution_count": null,
   "metadata": {
    "slideshow": {
     "slide_type": "slide"
    }
   },
   "outputs": [],
   "source": [
    "# 5. Routing: go from a lanelet to another"
   ]
  },
  {
   "cell_type": "code",
   "execution_count": null,
   "metadata": {
    "slideshow": {
     "slide_type": "slide"
    }
   },
   "outputs": [],
   "source": [
    "# create a graph of roads\n",
    "# ... and traffic rules (Germany)\n",
    "\n",
    "trafficRules = lanelet2.traffic_rules.create(lanelet2.traffic_rules.Locations.Germany, \n",
    "                                             lanelet2.traffic_rules.Participants.Vehicle)\n",
    "graph = lanelet2.routing.RoutingGraph(lmap, trafficRules)"
   ]
  },
  {
   "cell_type": "code",
   "execution_count": null,
   "metadata": {
    "slideshow": {
     "slide_type": "skip"
    }
   },
   "outputs": [],
   "source": [
    "# find all possible combination of routes that connect with a path\n",
    "\n",
    "sp_map = dict()\n",
    "for startLane in lmap.laneletLayer:\n",
    "    for endLane in lmap.laneletLayer:\n",
    "        if startLane.id != endLane.id:\n",
    "            k = \"%d_%d\" % (startLane.id, endLane.id)\n",
    "            rk = \"%d_%d\" % (endLane.id, startLane.id)\n",
    "            sp = graph.shortestPath(startLane, endLane)\n",
    "            if sp is not None:\n",
    "                if k not in sp_map and rk not in sp_map:\n",
    "                    sp_map[k] = sp\n",
    "                \n",
    "print(\"found %d connected lanes with shortest path\" % len(sp_map))"
   ]
  },
  {
   "cell_type": "code",
   "execution_count": null,
   "metadata": {
    "slideshow": {
     "slide_type": "skip"
    }
   },
   "outputs": [],
   "source": [
    "# print 5 of them\n",
    "\n",
    "nfrom = 11369\n",
    "nto = 11379\n",
    "print(\"print the first %d\" % nmax)\n",
    "for k,v in sp_map.items():\n",
    "    if nfrom == nto:\n",
    "        break\n",
    "    print(\"%d -> %s\" % (nfrom, k))\n",
    "    nfrom += 1"
   ]
  },
  {
   "cell_type": "code",
   "execution_count": null,
   "metadata": {
    "slideshow": {
     "slide_type": "slide"
    }
   },
   "outputs": [],
   "source": [
    "# calculate the shortest path between two lanes\n",
    "\n",
    "startLane = lmap.laneletLayer[1181845994370657488]\n",
    "endLane = lmap.laneletLayer[7697222576222483732]\n",
    "\n",
    "rt = graph.getRoute(startLane, endLane)\n",
    "lpath = rt.shortestPath()\n",
    "\n",
    "print (\"found a path of %d lanes\" % len(lpath))#rt.numLanes())\n",
    "\n",
    "# what did I load ? \n",
    "geom = make_geom_lanelet_path(lpath)\n",
    "swkt.loads(geom.ExportToWkt())"
   ]
  },
  {
   "cell_type": "code",
   "execution_count": null,
   "metadata": {
    "slideshow": {
     "slide_type": "slide"
    }
   },
   "outputs": [],
   "source": [
    "# show the path \n",
    "\n",
    "for i in range(0, len(lpath)):\n",
    "    geom =  make_geom_lanelet(lpath[i])\n",
    "    if geom.GetGeometryCount() >= 2:\n",
    "        print(\"%d -> %s...\" % (1+i, geom.GetGeometryRef(0).ExportToWkt()[:60]))\n",
    "    else:\n",
    "        print(\"%d -> %s\" % (1+i, geom.ExportToWkt()))"
   ]
  },
  {
   "cell_type": "code",
   "execution_count": null,
   "metadata": {
    "slideshow": {
     "slide_type": "skip"
    }
   },
   "outputs": [],
   "source": [
    "# show the path (restricted to not change lane)\n",
    "make_geom_lanelet_path_restricted(lpath)\n",
    "swkt.loads(geom.ExportToWkt())"
   ]
  },
  {
   "cell_type": "code",
   "execution_count": null,
   "metadata": {
    "slideshow": {
     "slide_type": "skip"
    }
   },
   "outputs": [],
   "source": [
    "# show the path (restricted to not change lane)\n",
    "rempath = lpath.getRemainingLane(lpath[0])\n",
    "for i in range(0, len(rempath)):\n",
    "    geom =  make_geom_lanelet(rempath[i])\n",
    "    if geom.GetGeometryCount() >= 2:\n",
    "        print(\"%d -> %s\" % (1+i, geom.GetGeometryRef(0).ExportToWkt()))\n",
    "    else:\n",
    "        print(\"%d -> %s\" % (1+i, geom.ExportToWkt()))"
   ]
  }
 ],
 "metadata": {
  "celltoolbar": "Slideshow",
  "kernelspec": {
   "display_name": "Python 2",
   "language": "python",
   "name": "python2"
  },
  "language_info": {
   "codemirror_mode": {
    "name": "ipython",
    "version": 2
   },
   "file_extension": ".py",
   "mimetype": "text/x-python",
   "name": "python",
   "nbconvert_exporter": "python",
   "pygments_lexer": "ipython2",
   "version": "2.7.12"
  }
 },
 "nbformat": 4,
 "nbformat_minor": 2
}
